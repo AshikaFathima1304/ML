{
  "nbformat": 4,
  "nbformat_minor": 0,
  "metadata": {
    "colab": {
      "provenance": [],
      "authorship_tag": "ABX9TyNjb/iaM4uzEGoXega4uErl",
      "include_colab_link": true
    },
    "kernelspec": {
      "name": "python3",
      "display_name": "Python 3"
    },
    "language_info": {
      "name": "python"
    }
  },
  "cells": [
    {
      "cell_type": "markdown",
      "metadata": {
        "id": "view-in-github",
        "colab_type": "text"
      },
      "source": [
        "<a href=\"https://colab.research.google.com/github/AshikaFathima1304/ML/blob/main/VC_CODE.ipynb\" target=\"_parent\"><img src=\"https://colab.research.google.com/assets/colab-badge.svg\" alt=\"Open In Colab\"/></a>"
      ]
    },
    {
      "cell_type": "code",
      "source": [
        "import numpy as np\n",
        "def vc_dimension(points):\n",
        "\n",
        "    points = points[np.argsort(points[:,0])]\n",
        "    VC_dim = 0\n",
        "\n",
        "    for i, p in enumerate(points):\n",
        "        shattered_count = 0\n",
        "        for j in range(i + 1):\n",
        "            if points[j, 1] < p[1]:\n",
        "                shattered_count += 1\n",
        "        if shattered_count == i:\n",
        "            VC_dim += 1\n",
        "        else:\n",
        "            break\n",
        "    return VC_dim\n",
        "\n",
        "points = np.array([[1, 1], [2, 3], [3, 2], [4, 5]])\n",
        "print(\"VC dimension:\", vc_dimension(points))\n"
      ],
      "metadata": {
        "colab": {
          "base_uri": "https://localhost:8080/"
        },
        "id": "cOLXFXUsBtBe",
        "outputId": "bae3655b-317a-4f7b-fd9b-486cd9b4b608"
      },
      "execution_count": 6,
      "outputs": [
        {
          "output_type": "stream",
          "name": "stdout",
          "text": [
            "VC dimension: 2\n"
          ]
        }
      ]
    }
  ]
}